{
  "nbformat": 4,
  "nbformat_minor": 0,
  "metadata": {
    "colab": {
      "name": "Copy of audio_data_processing_2_types_of_features.ipynb",
      "private_outputs": true,
      "provenance": [],
      "collapsed_sections": [],
      "include_colab_link": true
    },
    "kernelspec": {
      "name": "python3",
      "display_name": "Python 3"
    },
    "language_info": {
      "name": "python"
    }
  },
  "cells": [
    {
      "cell_type": "markdown",
      "metadata": {
        "id": "view-in-github",
        "colab_type": "text"
      },
      "source": [
        "<a href=\"https://colab.research.google.com/github/CollinPyxeda/SampleDataAudio/blob/main/Copy_of_audio_data_processing_2_types_of_features.ipynb\" target=\"_parent\"><img src=\"https://colab.research.google.com/assets/colab-badge.svg\" alt=\"Open In Colab\"/></a>"
      ]
    },
    {
      "cell_type": "markdown",
      "source": [
        "## Mount Google Drive locally\n",
        "\n",
        "Mount your Google Drive so that files in your drive are available to your python program."
      ],
      "metadata": {
        "id": "QS--8ybj_aMY"
      }
    },
    {
      "cell_type": "code",
      "execution_count": null,
      "metadata": {
        "id": "VR0fxMfq_VeJ"
      },
      "outputs": [],
      "source": [
        "from google.colab import drive\n",
        "drive.mount('/content/drive')"
      ]
    },
    {
      "cell_type": "markdown",
      "source": [
        "## Provide path to the audio files"
      ],
      "metadata": {
        "id": "8meyt0zn_nJC"
      }
    },
    {
      "cell_type": "code",
      "source": [
        "src_folder = \"/content/drive/My Drive/SampleData\""
      ],
      "metadata": {
        "id": "ujYalAYd_rZ0"
      },
      "execution_count": null,
      "outputs": []
    },
    {
      "cell_type": "markdown",
      "source": [
        "## Function to extract audio features"
      ],
      "metadata": {
        "id": "R6w30bkE_0Ge"
      }
    },
    {
      "cell_type": "code",
      "source": [
        "import librosa\n",
        "import numpy as np\n",
        "\n",
        "# As a first step, we extract only mfcc features\n",
        "def extract_audio_features(y, sr):\n",
        "  # Feature 1\n",
        "  mfcc = librosa.feature.mfcc(y, sr)\n",
        "  mfcc_mean = mfcc.mean(axis=1).T\n",
        "  mfcc_std = mfcc.std(axis=1).T\n",
        "  # Feature 2\n",
        "  stft = librosa.feature.chroma_stft(y, sr)\n",
        "  stft_mean = stft.mean(axis=1).T\n",
        "  stft_std = stft.std(axis=1).T\n",
        "  features = np.hstack([mfcc_mean, mfcc_std, stft_mean, stft_std])\n",
        "  return list(features)"
      ],
      "metadata": {
        "id": "FSfXBJlK_7I3"
      },
      "execution_count": null,
      "outputs": []
    },
    {
      "cell_type": "markdown",
      "source": [
        "## Create a csv file from audio files"
      ],
      "metadata": {
        "id": "Kcv5o52YACHp"
      }
    },
    {
      "cell_type": "code",
      "source": [
        "import os\n",
        "import pandas as pd\n",
        "# List all sub-folders in the path\n",
        "directory_contents = os.listdir(src_folder)\n",
        "\n",
        "## Initialize a dataframe\n",
        "# Number of features is 40 by default\n",
        "num_features = 64\n",
        "# Name the columns of the dataset mfcc_0, mfcc_1 .. etc\n",
        "columns = ['mfcc_'+str(a) for a in range(0,num_features)]\n",
        "# Append an additional column called label, which will save the label of audio file\n",
        "columns.append('label')\n",
        "# Create an empty dataframe\n",
        "df = pd.DataFrame(columns=columns)\n",
        "# View the empty dataframe\n",
        "df.head()"
      ],
      "metadata": {
        "id": "1rQm-2z0AKHW"
      },
      "execution_count": null,
      "outputs": []
    },
    {
      "cell_type": "code",
      "source": [
        "# Go over wav files in each subfolder and add to the dataframe\n",
        "for folder_name in directory_contents:\n",
        "  print('Processing ', folder_name)\n",
        "  files_list = [_ for _ in os.listdir(os.path.join(src_folder, folder_name))if _.endswith('.wav')]\n",
        "  print('Number of files in ', folder_name, ' is ', len(files_list))\n",
        "  for audio_file in files_list:\n",
        "    # Path to an individual audio file\n",
        "    audio_file_path = os.path.join(src_folder, folder_name, audio_file)\n",
        "    # Load the file using librosa. y is the signal, sr is sampling rate\n",
        "    y, sr = librosa.load(audio_file_path)\n",
        "    # Send this to the feature extracting function\n",
        "    feature = extract_audio_features(y,sr)\n",
        "    # Append the label\n",
        "    feature.append(folder_name)\n",
        "    # Append the dataframe with the new sample\n",
        "    df = df.append(pd.DataFrame([feature], columns=columns), ignore_index=True)"
      ],
      "metadata": {
        "id": "o5HZ8KetwryH"
      },
      "execution_count": null,
      "outputs": []
    },
    {
      "cell_type": "markdown",
      "source": [
        "## Write the csv file"
      ],
      "metadata": {
        "id": "R3HwRZN2AJkD"
      }
    },
    {
      "cell_type": "code",
      "source": [
        "df.to_csv('audio_features.csv', index=False)"
      ],
      "metadata": {
        "id": "5jBXsfj3APN7"
      },
      "execution_count": null,
      "outputs": []
    }
  ]
}